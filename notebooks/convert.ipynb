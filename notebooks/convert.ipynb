{
 "metadata": {
  "language_info": {
   "codemirror_mode": {
    "name": "ipython",
    "version": 3
   },
   "file_extension": ".py",
   "mimetype": "text/x-python",
   "name": "python",
   "nbconvert_exporter": "python",
   "pygments_lexer": "ipython3",
   "version": 3
  },
  "orig_nbformat": 2
 },
 "nbformat": 4,
 "nbformat_minor": 2,
 "cells": [
  {
   "cell_type": "code",
   "execution_count": null,
   "metadata": {},
   "outputs": [],
   "source": [
    "VADAnnotation_example = {\n",
    "    \"frames_count\": 1,\n",
    "    \"is_anomalous_regions_available\": False,\n",
    "    \"is_anomaly_track_id_available\": False,\n",
    "    \"frame_width\": 0,\n",
    "    \"frame_height\": 0,\n",
    "    \"frames\": [],\n",
    "    \"frame_rate\": None,\n",
    "    \"video_length_sec\": None\n",
    "}\n",
    "VADFrame_example = {\n",
    "    \"frame_id\": 1,\n",
    "    \"anomaly_track_id\": 0,\n",
    "    \"frame_level_score\": None,\n",
    "    \"anomalous_regions\": [],\n",
    "    \"video_time_sec\": 0.\n",
    "}\n",
    "AnomalousRegion_example = {\n",
    "    \"bounding_box\": [\n",
    "        0,\n",
    "        0,\n",
    "        100,\n",
    "        100\n",
    "    ],\n",
    "    \"score\": 1.0\n",
    "}\n"
   ]
  },
  {
   "source": [
    "## Convert UCSD Ped 1 & 2 (with Street scene's GT)"
   ],
   "cell_type": "markdown",
   "metadata": {}
  },
  {
   "cell_type": "code",
   "execution_count": null,
   "metadata": {},
   "outputs": [],
   "source": [
    "!python ucsd_ped_ss_cvt.py -d ../../video_anomaly_detection/vad_datasets/ucsd/UCSD_Anomaly_Dataset.v1p2/UCSDped1/Test/ -a ../../video_anomaly_detection/vad_datasets/streetscene/ftp.merl.com/pub/streetscene/Ped1Ped2Avenue/Ped1/"
   ]
  },
  {
   "cell_type": "code",
   "execution_count": null,
   "metadata": {},
   "outputs": [],
   "source": [
    "!python ucsd_ped_ss_cvt.py -d ../../video_anomaly_detection/vad_datasets/ucsd/UCSD_Anomaly_Dataset.v1p2/UCSDped2/Test/ -a ../../video_anomaly_detection/vad_datasets/streetscene/ftp.merl.com/pub/streetscene/Ped1Ped2Avenue/Ped2/"
   ]
  },
  {
   "source": [
    "## Convert CUHK Avenue (with Street scene's GT)"
   ],
   "cell_type": "markdown",
   "metadata": {}
  },
  {
   "cell_type": "code",
   "execution_count": null,
   "metadata": {},
   "outputs": [],
   "source": [
    "!python cuhk_ave_cvt.py -d \"../../video_anomaly_detection/vad_datasets/cuhk_avenue/Avenue Dataset/testing_videos/\" -a ../../video_anomaly_detection/vad_datasets/streetscene/ftp.merl.com/pub/streetscene/Ped1Ped2Avenue/Avenue/"
   ]
  }
 ]
}