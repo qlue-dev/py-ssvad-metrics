{
 "metadata": {
  "language_info": {
   "codemirror_mode": {
    "name": "ipython",
    "version": 3
   },
   "file_extension": ".py",
   "mimetype": "text/x-python",
   "name": "python",
   "nbconvert_exporter": "python",
   "pygments_lexer": "ipython3",
   "version": 3
  },
  "orig_nbformat": 2
 },
 "nbformat": 4,
 "nbformat_minor": 2,
 "cells": [
  {
   "cell_type": "code",
   "execution_count": null,
   "metadata": {},
   "outputs": [],
   "source": [
    "!python ucsd_ped_ss_cvt.py -d ../../video_anomaly_detection/vad_datasets/ucsd/UCSD_Anomaly_Dataset.v1p2/UCSDped1/Test/ -a ../../video_anomaly_detection/vad_datasets/streetscene/ftp.merl.com/pub/streetscene/Ped1Ped2Avenue/Ped1/ -o UCSDped1_Test"
   ]
  },
  {
   "cell_type": "code",
   "execution_count": null,
   "metadata": {},
   "outputs": [],
   "source": [
    "!python ucsd_ped_ss_cvt.py -d ../../video_anomaly_detection/vad_datasets/ucsd/UCSD_Anomaly_Dataset.v1p2/UCSDped2/Test/ -a ../../video_anomaly_detection/vad_datasets/streetscene/ftp.merl.com/pub/streetscene/Ped1Ped2Avenue/Ped2/ -o UCSDped2_Test"
   ]
  },
  {
   "source": [
    "## Convert CUHK Avenue (with Street scene's GT)"
   ],
   "cell_type": "markdown",
   "metadata": {}
  },
  {
   "cell_type": "code",
   "execution_count": null,
   "metadata": {},
   "outputs": [],
   "source": [
    "!python cuhk_ave_cvt.py -d \"../../video_anomaly_detection/vad_datasets/cuhk_avenue/Avenue Dataset/testing_videos/\" -a ../../video_anomaly_detection/vad_datasets/streetscene/ftp.merl.com/pub/streetscene/Ped1Ped2Avenue/Avenue/ -o cuhk_ave"
   ]
  }
 ]
}